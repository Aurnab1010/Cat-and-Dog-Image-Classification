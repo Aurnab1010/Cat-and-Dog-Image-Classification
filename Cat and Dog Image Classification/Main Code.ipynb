{
  "cells": [
    {
      "cell_type": "markdown",
      "source": [
        "### library\n",
        "1. tensorflow: fast numerical computing \n",
        "2. os: functions for interacting with the operating system\n",
        "3. NumPy is a Python library used for working with arrays"
      ],
      "metadata": {},
      "id": "d33ef762"
    },
    {
      "cell_type": "code",
      "source": [
        "import tensorflow as tf\n",
        "import os\n",
        "import numpy as np"
      ],
      "outputs": [],
      "execution_count": 19,
      "metadata": {},
      "id": "6e1df99c"
    },
    {
      "cell_type": "markdown",
      "source": [
        "### Database file path"
      ],
      "metadata": {},
      "id": "0c2c7314"
    },
    {
      "cell_type": "code",
      "source": [
        "base_dir=r\"D:\\Cat vs Dog\\PetImages\""
      ],
      "outputs": [],
      "execution_count": 21,
      "metadata": {},
      "id": "120e627a"
    },
    {
      "cell_type": "markdown",
      "source": [
        "1. tf.keras.preprocessing.image.ImageDataGenerator:augment images in real-time while model is still training\n",
        "2. Flip Horizontally command reverses the active layer horizontally.That is from left to right.\n",
        "3. validation_split allows users to split their data into training and testing sets."
      ],
      "metadata": {},
      "id": "81f7a7bb"
    },
    {
      "cell_type": "code",
      "source": [
        "IMAGE_SIZE=224\n",
        "BATCH_SIZE=64\n",
        "\n",
        "train_datagen=tf.keras.preprocessing.image.ImageDataGenerator(\n",
        "    \n",
        "    \n",
        "    rescale=1./255,\n",
        "    zoom_range=0.2,\n",
        "    horizontal_flip=True,\n",
        "    validation_split=0.1)\n",
        "\n",
        "validation_datagen=tf.keras.preprocessing.image.ImageDataGenerator(\n",
        "    rescale=1./255,\n",
        "    \n",
        "    validation_split=0.1\n",
        ")\n",
        "  "
      ],
      "outputs": [],
      "execution_count": 22,
      "metadata": {},
      "id": "5503056b"
    },
    {
      "cell_type": "markdown",
      "source": [
        "1.  For training there are 902 images\n",
        "2. For validation there are 100 images\n",
        "3. classes"
      ],
      "metadata": {},
      "id": "c28d29d5"
    },
    {
      "cell_type": "code",
      "source": [
        "train_genarator=train_datagen.flow_from_directory(\n",
        "    base_dir,\n",
        "    target_size=(IMAGE_SIZE,IMAGE_SIZE),\n",
        "    batch_size=BATCH_SIZE,\n",
        "    subset='training'\n",
        "    \n",
        "\n",
        ") \n",
        "\n",
        "validation_generator=validation_datagen.flow_from_directory(\n",
        "    base_dir,\n",
        "    target_size=(IMAGE_SIZE,IMAGE_SIZE),\n",
        "    batch_size=BATCH_SIZE,\n",
        "    subset='validation'\n",
        "    \n",
        "\n",
        ") \n",
        "  "
      ],
      "outputs": [
        {
          "output_type": "stream",
          "name": "stdout",
          "text": [
            "Found 902 images belonging to 2 classes.\n",
            "Found 100 images belonging to 2 classes.\n"
          ]
        }
      ],
      "execution_count": 23,
      "metadata": {},
      "id": "99b08e02"
    },
    {
      "cell_type": "markdown",
      "source": [
        "### library\n",
        "1. Sequential model is appropriate for a plain stack of layers where each layer has exactly one input tensor and one output tensor.\n",
        "2. glob module is used to retrieve pathnames matching a specified pattern.\n",
        "3. Flatten:This function converts the multi-dimensional arrays into flattened one-dimensional arrays or single-dimensional arrays."
      ],
      "metadata": {},
      "id": "bf74c8b9"
    },
    {
      "cell_type": "code",
      "source": [
        "from tensorflow.keras.layers import Input,Flatten,Dense\n",
        "from tensorflow.keras.models import Model\n",
        "from tensorflow.keras.applications.vgg16 import VGG16\n",
        "from tensorflow.keras.models import Sequential\n",
        "from glob import glob"
      ],
      "outputs": [],
      "execution_count": 24,
      "metadata": {},
      "id": "03e26f80"
    },
    {
      "cell_type": "markdown",
      "source": [
        "### Imagenet:labeling and categorizing images "
      ],
      "metadata": {},
      "id": "524c58cc"
    },
    {
      "cell_type": "code",
      "source": [
        "IMAGE_SIZE=[224,224]\n",
        "vgg=VGG16(input_shape=IMAGE_SIZE+[3],weights='imagenet',include_top=False)\n",
        "vgg.output"
      ],
      "outputs": [
        {
          "output_type": "execute_result",
          "execution_count": 25,
          "data": {
            "text/plain": "<KerasTensor: shape=(None, 7, 7, 512) dtype=float32 (created by layer 'block5_pool')>"
          },
          "metadata": {}
        }
      ],
      "execution_count": 25,
      "metadata": {},
      "id": "997b5ffa"
    },
    {
      "cell_type": "code",
      "source": [
        "for layer in vgg.layers:\n",
        "    layer.trainable=False"
      ],
      "outputs": [],
      "execution_count": 26,
      "metadata": {},
      "id": "d21206d1"
    },
    {
      "cell_type": "code",
      "source": [
        "folders=glob(r\"D:\\Cat vs Dog\\PetImages\\*\")\n",
        "print(len(folders))"
      ],
      "outputs": [
        {
          "output_type": "stream",
          "name": "stdout",
          "text": [
            "2\n"
          ]
        }
      ],
      "execution_count": 27,
      "metadata": {},
      "id": "03d32f4e"
    },
    {
      "cell_type": "markdown",
      "source": [
        "1. Dense Layer is used to classify image based on output from convolutional layers.\n",
        "2. Softmax is a mathematical function that converts a vector of numbers into a vector of probabilities."
      ],
      "metadata": {},
      "id": "0a8c5c8d"
    },
    {
      "cell_type": "code",
      "source": [
        "x=Flatten()(vgg.output)\n",
        "prediction=Dense(len(folders),activation='softmax')(x)\n",
        "model=Model(inputs=vgg.input,outputs=prediction)\n",
        "model.summary()"
      ],
      "outputs": [
        {
          "output_type": "stream",
          "name": "stdout",
          "text": [
            "Model: \"model_2\"\n",
            "_________________________________________________________________\n",
            " Layer (type)                Output Shape              Param #   \n",
            "=================================================================\n",
            " input_2 (InputLayer)        [(None, 224, 224, 3)]     0         \n",
            "                                                                 \n",
            " block1_conv1 (Conv2D)       (None, 224, 224, 64)      1792      \n",
            "                                                                 \n",
            " block1_conv2 (Conv2D)       (None, 224, 224, 64)      36928     \n",
            "                                                                 \n",
            " block1_pool (MaxPooling2D)  (None, 112, 112, 64)      0         \n",
            "                                                                 \n",
            " block2_conv1 (Conv2D)       (None, 112, 112, 128)     73856     \n",
            "                                                                 \n",
            " block2_conv2 (Conv2D)       (None, 112, 112, 128)     147584    \n",
            "                                                                 \n",
            " block2_pool (MaxPooling2D)  (None, 56, 56, 128)       0         \n",
            "                                                                 \n",
            " block3_conv1 (Conv2D)       (None, 56, 56, 256)       295168    \n",
            "                                                                 \n",
            " block3_conv2 (Conv2D)       (None, 56, 56, 256)       590080    \n",
            "                                                                 \n",
            " block3_conv3 (Conv2D)       (None, 56, 56, 256)       590080    \n",
            "                                                                 \n",
            " block3_pool (MaxPooling2D)  (None, 28, 28, 256)       0         \n",
            "                                                                 \n",
            " block4_conv1 (Conv2D)       (None, 28, 28, 512)       1180160   \n",
            "                                                                 \n",
            " block4_conv2 (Conv2D)       (None, 28, 28, 512)       2359808   \n",
            "                                                                 \n",
            " block4_conv3 (Conv2D)       (None, 28, 28, 512)       2359808   \n",
            "                                                                 \n",
            " block4_pool (MaxPooling2D)  (None, 14, 14, 512)       0         \n",
            "                                                                 \n",
            " block5_conv1 (Conv2D)       (None, 14, 14, 512)       2359808   \n",
            "                                                                 \n",
            " block5_conv2 (Conv2D)       (None, 14, 14, 512)       2359808   \n",
            "                                                                 \n",
            " block5_conv3 (Conv2D)       (None, 14, 14, 512)       2359808   \n",
            "                                                                 \n",
            " block5_pool (MaxPooling2D)  (None, 7, 7, 512)         0         \n",
            "                                                                 \n",
            " flatten_2 (Flatten)         (None, 25088)             0         \n",
            "                                                                 \n",
            " dense_2 (Dense)             (None, 2)                 50178     \n",
            "                                                                 \n",
            "=================================================================\n",
            "Total params: 14,764,866\n",
            "Trainable params: 50,178\n",
            "Non-trainable params: 14,714,688\n",
            "_________________________________________________________________\n"
          ]
        }
      ],
      "execution_count": 42,
      "metadata": {},
      "id": "0ec5306e"
    },
    {
      "cell_type": "code",
      "source": [
        "model.compile(loss='binary_crossentropy', optimizer='adam', metrics=['accuracy'])"
      ],
      "outputs": [],
      "execution_count": 29,
      "metadata": {},
      "id": "8783c1de"
    },
    {
      "cell_type": "code",
      "source": [
        "epoch=50\n",
        "\n",
        "history=model.fit(train_genarator,\n",
        "                  steps_per_epoch=len(train_genarator),\n",
        "                  epochs=epoch,\n",
        "                  validation_data=validation_generator,\n",
        "                  validation_steps=len(validation_generator)\n",
        "                 )"
      ],
      "outputs": [
        {
          "output_type": "stream",
          "name": "stdout",
          "text": [
            "Epoch 1/50\n",
            "15/15 [==============================] - 317s 22s/step - loss: 0.6415 - accuracy: 0.6896 - val_loss: 0.3175 - val_accuracy: 0.9200\n",
            "Epoch 2/50\n",
            "15/15 [==============================] - 333s 22s/step - loss: 0.3504 - accuracy: 0.8614 - val_loss: 0.1881 - val_accuracy: 0.9500\n",
            "Epoch 3/50\n",
            "15/15 [==============================] - 305s 21s/step - loss: 0.2710 - accuracy: 0.8969 - val_loss: 0.1664 - val_accuracy: 0.9700\n",
            "Epoch 4/50\n",
            "15/15 [==============================] - 334s 22s/step - loss: 0.2270 - accuracy: 0.9146 - val_loss: 0.1383 - val_accuracy: 0.9800\n",
            "Epoch 5/50\n",
            "15/15 [==============================] - 301s 20s/step - loss: 0.2207 - accuracy: 0.9213 - val_loss: 0.2088 - val_accuracy: 0.9000\n",
            "Epoch 6/50\n",
            "15/15 [==============================] - 295s 20s/step - loss: 0.1910 - accuracy: 0.9224 - val_loss: 0.1215 - val_accuracy: 0.9800\n",
            "Epoch 7/50\n",
            "15/15 [==============================] - 292s 21s/step - loss: 0.1911 - accuracy: 0.9346 - val_loss: 0.1155 - val_accuracy: 0.9600\n",
            "Epoch 8/50\n",
            "15/15 [==============================] - 291s 19s/step - loss: 0.1687 - accuracy: 0.9401 - val_loss: 0.1176 - val_accuracy: 0.9700\n",
            "Epoch 9/50\n",
            "15/15 [==============================] - 289s 19s/step - loss: 0.1506 - accuracy: 0.9523 - val_loss: 0.1147 - val_accuracy: 0.9600\n",
            "Epoch 10/50\n",
            "15/15 [==============================] - 295s 19s/step - loss: 0.1302 - accuracy: 0.9590 - val_loss: 0.1051 - val_accuracy: 0.9800\n",
            "Epoch 11/50\n",
            "15/15 [==============================] - 287s 20s/step - loss: 0.1209 - accuracy: 0.9601 - val_loss: 0.1213 - val_accuracy: 0.9500\n",
            "Epoch 12/50\n",
            "15/15 [==============================] - 285s 19s/step - loss: 0.1238 - accuracy: 0.9656 - val_loss: 0.1175 - val_accuracy: 0.9500\n",
            "Epoch 13/50\n",
            "15/15 [==============================] - 314s 21s/step - loss: 0.1197 - accuracy: 0.9667 - val_loss: 0.0902 - val_accuracy: 0.9900\n",
            "Epoch 14/50\n",
            "15/15 [==============================] - 328s 22s/step - loss: 0.1018 - accuracy: 0.9745 - val_loss: 0.0878 - val_accuracy: 0.9900\n",
            "Epoch 15/50\n",
            "15/15 [==============================] - 353s 23s/step - loss: 0.1005 - accuracy: 0.9778 - val_loss: 0.0993 - val_accuracy: 0.9700\n",
            "Epoch 16/50\n",
            "15/15 [==============================] - 320s 21s/step - loss: 0.0922 - accuracy: 0.9834 - val_loss: 0.0755 - val_accuracy: 0.9900\n",
            "Epoch 17/50\n",
            "15/15 [==============================] - 304s 21s/step - loss: 0.0928 - accuracy: 0.9745 - val_loss: 0.1221 - val_accuracy: 0.9400\n",
            "Epoch 18/50\n",
            "15/15 [==============================] - 316s 21s/step - loss: 0.1011 - accuracy: 0.9656 - val_loss: 0.0781 - val_accuracy: 0.9700\n",
            "Epoch 19/50\n",
            "15/15 [==============================] - 303s 20s/step - loss: 0.0821 - accuracy: 0.9856 - val_loss: 0.0923 - val_accuracy: 0.9700\n",
            "Epoch 20/50\n",
            "15/15 [==============================] - 330s 22s/step - loss: 0.0788 - accuracy: 0.9845 - val_loss: 0.0723 - val_accuracy: 0.9700\n",
            "Epoch 21/50\n",
            "15/15 [==============================] - 322s 22s/step - loss: 0.0692 - accuracy: 0.9856 - val_loss: 0.0631 - val_accuracy: 0.9900\n",
            "Epoch 22/50\n",
            "15/15 [==============================] - 308s 21s/step - loss: 0.0725 - accuracy: 0.9823 - val_loss: 0.0647 - val_accuracy: 0.9800\n",
            "Epoch 23/50\n",
            "15/15 [==============================] - 355s 24s/step - loss: 0.0751 - accuracy: 0.9834 - val_loss: 0.0938 - val_accuracy: 0.9600\n",
            "Epoch 24/50\n",
            "15/15 [==============================] - 329s 22s/step - loss: 0.0658 - accuracy: 0.9856 - val_loss: 0.0939 - val_accuracy: 0.9600\n",
            "Epoch 25/50\n",
            "15/15 [==============================] - 339s 23s/step - loss: 0.0682 - accuracy: 0.9867 - val_loss: 0.0609 - val_accuracy: 0.9800\n",
            "Epoch 26/50\n",
            "15/15 [==============================] - 226s 15s/step - loss: 0.0673 - accuracy: 0.9856 - val_loss: 0.0665 - val_accuracy: 0.9800\n",
            "Epoch 27/50\n",
            "15/15 [==============================] - 188s 13s/step - loss: 0.0650 - accuracy: 0.9856 - val_loss: 0.1044 - val_accuracy: 0.9600\n",
            "Epoch 28/50\n",
            "15/15 [==============================] - 209s 14s/step - loss: 0.0605 - accuracy: 0.9878 - val_loss: 0.1112 - val_accuracy: 0.9500\n",
            "Epoch 29/50\n",
            "15/15 [==============================] - 294s 20s/step - loss: 0.0579 - accuracy: 0.9900 - val_loss: 0.0647 - val_accuracy: 0.9700\n",
            "Epoch 30/50\n",
            "15/15 [==============================] - 284s 19s/step - loss: 0.0524 - accuracy: 0.9922 - val_loss: 0.0837 - val_accuracy: 0.9700\n",
            "Epoch 31/50\n",
            "15/15 [==============================] - 269s 18s/step - loss: 0.0465 - accuracy: 0.9967 - val_loss: 0.0613 - val_accuracy: 0.9800\n",
            "Epoch 32/50\n",
            "15/15 [==============================] - 267s 18s/step - loss: 0.0548 - accuracy: 0.9889 - val_loss: 0.0910 - val_accuracy: 0.9600\n",
            "Epoch 33/50\n",
            "15/15 [==============================] - 267s 18s/step - loss: 0.0500 - accuracy: 0.9933 - val_loss: 0.0506 - val_accuracy: 1.0000\n",
            "Epoch 34/50\n",
            "15/15 [==============================] - 269s 18s/step - loss: 0.0486 - accuracy: 0.9911 - val_loss: 0.0612 - val_accuracy: 0.9800\n",
            "Epoch 35/50\n",
            "15/15 [==============================] - 268s 18s/step - loss: 0.0461 - accuracy: 0.9945 - val_loss: 0.0676 - val_accuracy: 0.9800\n",
            "Epoch 36/50\n",
            "15/15 [==============================] - 268s 18s/step - loss: 0.0396 - accuracy: 0.9956 - val_loss: 0.0511 - val_accuracy: 1.0000\n",
            "Epoch 37/50\n",
            "15/15 [==============================] - 271s 18s/step - loss: 0.0435 - accuracy: 0.9945 - val_loss: 0.0756 - val_accuracy: 0.9600\n",
            "Epoch 38/50\n",
            "15/15 [==============================] - 270s 18s/step - loss: 0.0367 - accuracy: 0.9978 - val_loss: 0.0819 - val_accuracy: 0.9600\n",
            "Epoch 39/50\n",
            "15/15 [==============================] - 270s 18s/step - loss: 0.0393 - accuracy: 0.9933 - val_loss: 0.0706 - val_accuracy: 0.9700\n",
            "Epoch 40/50\n",
            "15/15 [==============================] - 271s 18s/step - loss: 0.0392 - accuracy: 0.9967 - val_loss: 0.0778 - val_accuracy: 0.9600\n",
            "Epoch 41/50\n",
            "15/15 [==============================] - 270s 18s/step - loss: 0.0318 - accuracy: 1.0000 - val_loss: 0.0721 - val_accuracy: 0.9700\n",
            "Epoch 42/50\n",
            "15/15 [==============================] - 269s 19s/step - loss: 0.0342 - accuracy: 0.9956 - val_loss: 0.0725 - val_accuracy: 0.9700\n",
            "Epoch 43/50\n",
            "15/15 [==============================] - 270s 18s/step - loss: 0.0358 - accuracy: 0.9945 - val_loss: 0.0607 - val_accuracy: 0.9700\n",
            "Epoch 44/50\n",
            "15/15 [==============================] - 271s 18s/step - loss: 0.0325 - accuracy: 0.9978 - val_loss: 0.0557 - val_accuracy: 0.9700\n",
            "Epoch 45/50\n",
            "15/15 [==============================] - 269s 18s/step - loss: 0.0285 - accuracy: 0.9989 - val_loss: 0.0426 - val_accuracy: 1.0000\n",
            "Epoch 46/50\n",
            "15/15 [==============================] - 268s 18s/step - loss: 0.0379 - accuracy: 0.9922 - val_loss: 0.0450 - val_accuracy: 0.9900\n",
            "Epoch 47/50\n",
            "15/15 [==============================] - 269s 18s/step - loss: 0.0314 - accuracy: 0.9989 - val_loss: 0.0432 - val_accuracy: 1.0000\n",
            "Epoch 48/50\n",
            "15/15 [==============================] - 271s 18s/step - loss: 0.0302 - accuracy: 0.9978 - val_loss: 0.0510 - val_accuracy: 0.9800\n",
            "Epoch 49/50\n",
            "15/15 [==============================] - 270s 18s/step - loss: 0.0295 - accuracy: 0.9989 - val_loss: 0.0510 - val_accuracy: 0.9900\n",
            "Epoch 50/50\n",
            "15/15 [==============================] - 267s 19s/step - loss: 0.0413 - accuracy: 0.9922 - val_loss: 0.0503 - val_accuracy: 0.9800\n"
          ]
        }
      ],
      "execution_count": 30,
      "metadata": {},
      "id": "cdf0bc10"
    },
    {
      "cell_type": "markdown",
      "source": [
        "### library\n",
        "1. Converts a PIL Image instance to a Numpy array.\n",
        "2. nInsert a new axis that will appear at the axis position in the expanded array shape"
      ],
      "metadata": {},
      "id": "efcd9528"
    },
    {
      "cell_type": "code",
      "source": [
        "from tensorflow.keras.preprocessing import image\n",
        "from tensorflow.keras.preprocessing.image import load_img\n",
        "from tensorflow.keras.preprocessing.image import img_to_array\n",
        "import numpy as np\n",
        "\n",
        "img_pred=image.load_img(r\"D:\\Cat vs Dog\\Dog_test\\586.JPG\",target_size=(224,224))\n",
        "\n",
        "img_pred=image.img_to_array(img_pred)\n",
        "img_pred=np.expand_dims(img_pred, axis=0)\n",
        "\n",
        "\n",
        "rslt= model.predict(img_pred)\n",
        "\n",
        "print(rslt)\n",
        "if rslt[0][0]>rslt[0][1]:\n",
        "    prediction=\"Cat\"   \n",
        "else:\n",
        "    prediction=\"Dog\"\n",
        "print(prediction)"
      ],
      "outputs": [
        {
          "output_type": "stream",
          "name": "stdout",
          "text": [
            "1/1 [==============================] - 0s 134ms/step\n",
            "[[0. 1.]]\n",
            "Dog\n"
          ]
        }
      ],
      "execution_count": 41,
      "metadata": {},
      "id": "dffcf26a"
    },
    {
      "cell_type": "code",
      "source": [],
      "outputs": [],
      "execution_count": null,
      "metadata": {},
      "id": "e771c1a6"
    },
    {
      "cell_type": "code",
      "source": [],
      "outputs": [],
      "execution_count": null,
      "metadata": {},
      "id": "3a47a502"
    },
    {
      "cell_type": "code",
      "source": [
        "import matplotlib.pyplot as plt\n",
        "acc = history.history['accuracy']\n",
        "val_acc = history.history['val_accuracy']\n",
        "loss = history.history['loss']\n",
        "val_loss = history.history['val_loss']\n",
        "epochs = range(1, len(acc) + 1)\n",
        "#Train and validation accuracy\n",
        "plt.plot(epochs, acc, 'b', label='Training accurarcy')\n",
        "plt.plot(epochs, val_acc, 'r', label='Validation accurarcy')\n",
        "plt.title('Training and Validation accurarcy')\n",
        "plt.legend()\n",
        "\n",
        "plt.figure()\n",
        "#Train and validation loss\n",
        "plt.plot(epochs, loss, 'b', label='Training loss')\n",
        "plt.plot(epochs, val_loss, 'r', label='Validation loss')\n",
        "plt.title('Training and Validation loss')\n",
        "plt.legend()\n",
        "plt.show()"
      ],
      "outputs": [
        {
          "output_type": "display_data",
          "data": {
            "image/png": "[encoded data removed]",
            "text/plain": "<Figure size 432x288 with 1 Axes>"
          },
          "metadata": {
            "needs_background": "light"
          }
        },
        {
          "output_type": "display_data",
          "data": {
            "image/png": "[encoded data removed]",
            "text/plain": "<Figure size 432x288 with 1 Axes>"
          },
          "metadata": {
            "needs_background": "light"
          }
        }
      ],
      "execution_count": 31,
      "metadata": {},
      "id": "2a26961a"
    },
    {
      "cell_type": "code",
      "source": [],
      "outputs": [],
      "execution_count": null,
      "metadata": {},
      "id": "48ccf3d3"
    },
    {
      "cell_type": "code",
      "source": [],
      "outputs": [],
      "execution_count": null,
      "metadata": {},
      "id": "f132c7a7"
    },
    {
      "cell_type": "code",
      "source": [],
      "outputs": [],
      "execution_count": null,
      "metadata": {},
      "id": "f7a488e4"
    },
    {
      "cell_type": "code",
      "source": [],
      "outputs": [],
      "execution_count": null,
      "metadata": {},
      "id": "a81d9987"
    },
    {
      "cell_type": "raw",
      "source": [],
      "metadata": {},
      "id": "f143445d"
    },
    {
      "cell_type": "code",
      "source": [],
      "outputs": [],
      "execution_count": null,
      "metadata": {},
      "id": "f35fffd0"
    },
    {
      "cell_type": "code",
      "source": [
        "\n"
      ],
      "outputs": [],
      "execution_count": null,
      "metadata": {},
      "id": "3ada3273"
    },
    {
      "cell_type": "code",
      "source": [],
      "outputs": [],
      "execution_count": null,
      "metadata": {},
      "id": "f8e67f0b"
    },
    {
      "cell_type": "code",
      "source": [],
      "outputs": [],
      "execution_count": null,
      "metadata": {},
      "id": "8ace3dc0"
    },
    {
      "cell_type": "code",
      "source": [],
      "outputs": [],
      "execution_count": null,
      "metadata": {},
      "id": "18bedf06"
    }
  ],
  "metadata": {
    "kernelspec": {
      "display_name": "Python 3 (ipykernel)",
      "language": "python",
      "name": "python3"
    },
    "language_info": {
      "codemirror_mode": {
        "name": "ipython",
        "version": 3
      },
      "file_extension": ".py",
      "mimetype": "text/x-python",
      "name": "python",
      "nbconvert_exporter": "python",
      "pygments_lexer": "ipython3",
      "version": "3.9.12"
    },
    "nteract": {
      "version": "0.28.0"
    }
  },
  "nbformat": 4,
  "nbformat_minor": 5
}